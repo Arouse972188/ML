{
 "cells": [
  {
   "cell_type": "code",
   "execution_count": 68,
   "id": "cdd18a59",
   "metadata": {},
   "outputs": [],
   "source": [
    "import pandas as pd\n",
    "import re\n",
    "import pymorphy2"
   ]
  },
  {
   "cell_type": "code",
   "execution_count": 69,
   "id": "83f94baf",
   "metadata": {},
   "outputs": [],
   "source": [
    "from sklearn.model_selection import train_test_split\n",
    "from sklearn.metrics import f1_score"
   ]
  },
  {
   "cell_type": "code",
   "execution_count": 70,
   "id": "02a64fc1",
   "metadata": {},
   "outputs": [],
   "source": [
    "df = pd.read_csv('titanicdf.csv')"
   ]
  },
  {
   "cell_type": "code",
   "execution_count": 71,
   "id": "1915de90",
   "metadata": {},
   "outputs": [
    {
     "data": {
      "text/html": [
       "<div>\n",
       "<style scoped>\n",
       "    .dataframe tbody tr th:only-of-type {\n",
       "        vertical-align: middle;\n",
       "    }\n",
       "\n",
       "    .dataframe tbody tr th {\n",
       "        vertical-align: top;\n",
       "    }\n",
       "\n",
       "    .dataframe thead th {\n",
       "        text-align: right;\n",
       "    }\n",
       "</style>\n",
       "<table border=\"1\" class=\"dataframe\">\n",
       "  <thead>\n",
       "    <tr style=\"text-align: right;\">\n",
       "      <th></th>\n",
       "      <th>PassengerId</th>\n",
       "      <th>Survived</th>\n",
       "      <th>Pclass</th>\n",
       "      <th>Name</th>\n",
       "      <th>Sex</th>\n",
       "      <th>Age</th>\n",
       "      <th>SibSp</th>\n",
       "      <th>Parch</th>\n",
       "      <th>Ticket</th>\n",
       "      <th>Fare</th>\n",
       "      <th>Cabin</th>\n",
       "      <th>Embarked</th>\n",
       "    </tr>\n",
       "  </thead>\n",
       "  <tbody>\n",
       "    <tr>\n",
       "      <th>0</th>\n",
       "      <td>1</td>\n",
       "      <td>0</td>\n",
       "      <td>3</td>\n",
       "      <td>Braund, Mr. Owen Harris</td>\n",
       "      <td>male</td>\n",
       "      <td>22.0</td>\n",
       "      <td>1</td>\n",
       "      <td>0</td>\n",
       "      <td>A/5 21171</td>\n",
       "      <td>7.2500</td>\n",
       "      <td>NaN</td>\n",
       "      <td>S</td>\n",
       "    </tr>\n",
       "    <tr>\n",
       "      <th>1</th>\n",
       "      <td>2</td>\n",
       "      <td>1</td>\n",
       "      <td>1</td>\n",
       "      <td>Cumings, Mrs. John Bradley (Florence Briggs Th...</td>\n",
       "      <td>female</td>\n",
       "      <td>38.0</td>\n",
       "      <td>1</td>\n",
       "      <td>0</td>\n",
       "      <td>PC 17599</td>\n",
       "      <td>71.2833</td>\n",
       "      <td>C85</td>\n",
       "      <td>C</td>\n",
       "    </tr>\n",
       "    <tr>\n",
       "      <th>2</th>\n",
       "      <td>3</td>\n",
       "      <td>1</td>\n",
       "      <td>3</td>\n",
       "      <td>Heikkinen, Miss. Laina</td>\n",
       "      <td>female</td>\n",
       "      <td>26.0</td>\n",
       "      <td>0</td>\n",
       "      <td>0</td>\n",
       "      <td>STON/O2. 3101282</td>\n",
       "      <td>7.9250</td>\n",
       "      <td>NaN</td>\n",
       "      <td>S</td>\n",
       "    </tr>\n",
       "    <tr>\n",
       "      <th>3</th>\n",
       "      <td>4</td>\n",
       "      <td>1</td>\n",
       "      <td>1</td>\n",
       "      <td>Futrelle, Mrs. Jacques Heath (Lily May Peel)</td>\n",
       "      <td>female</td>\n",
       "      <td>35.0</td>\n",
       "      <td>1</td>\n",
       "      <td>0</td>\n",
       "      <td>113803</td>\n",
       "      <td>53.1000</td>\n",
       "      <td>C123</td>\n",
       "      <td>S</td>\n",
       "    </tr>\n",
       "    <tr>\n",
       "      <th>4</th>\n",
       "      <td>5</td>\n",
       "      <td>0</td>\n",
       "      <td>3</td>\n",
       "      <td>Allen, Mr. William Henry</td>\n",
       "      <td>male</td>\n",
       "      <td>35.0</td>\n",
       "      <td>0</td>\n",
       "      <td>0</td>\n",
       "      <td>373450</td>\n",
       "      <td>8.0500</td>\n",
       "      <td>NaN</td>\n",
       "      <td>S</td>\n",
       "    </tr>\n",
       "  </tbody>\n",
       "</table>\n",
       "</div>"
      ],
      "text/plain": [
       "   PassengerId  Survived  Pclass  \\\n",
       "0            1         0       3   \n",
       "1            2         1       1   \n",
       "2            3         1       3   \n",
       "3            4         1       1   \n",
       "4            5         0       3   \n",
       "\n",
       "                                                Name     Sex   Age  SibSp  \\\n",
       "0                            Braund, Mr. Owen Harris    male  22.0      1   \n",
       "1  Cumings, Mrs. John Bradley (Florence Briggs Th...  female  38.0      1   \n",
       "2                             Heikkinen, Miss. Laina  female  26.0      0   \n",
       "3       Futrelle, Mrs. Jacques Heath (Lily May Peel)  female  35.0      1   \n",
       "4                           Allen, Mr. William Henry    male  35.0      0   \n",
       "\n",
       "   Parch            Ticket     Fare Cabin Embarked  \n",
       "0      0         A/5 21171   7.2500   NaN        S  \n",
       "1      0          PC 17599  71.2833   C85        C  \n",
       "2      0  STON/O2. 3101282   7.9250   NaN        S  \n",
       "3      0            113803  53.1000  C123        S  \n",
       "4      0            373450   8.0500   NaN        S  "
      ]
     },
     "execution_count": 71,
     "metadata": {},
     "output_type": "execute_result"
    }
   ],
   "source": [
    "df.head()"
   ]
  },
  {
   "cell_type": "code",
   "execution_count": 72,
   "id": "d78f6c0d",
   "metadata": {},
   "outputs": [
    {
     "name": "stdout",
     "output_type": "stream",
     "text": [
      "<class 'pandas.core.frame.DataFrame'>\n",
      "RangeIndex: 891 entries, 0 to 890\n",
      "Data columns (total 12 columns):\n",
      " #   Column       Non-Null Count  Dtype  \n",
      "---  ------       --------------  -----  \n",
      " 0   PassengerId  891 non-null    int64  \n",
      " 1   Survived     891 non-null    int64  \n",
      " 2   Pclass       891 non-null    int64  \n",
      " 3   Name         891 non-null    object \n",
      " 4   Sex          891 non-null    object \n",
      " 5   Age          714 non-null    float64\n",
      " 6   SibSp        891 non-null    int64  \n",
      " 7   Parch        891 non-null    int64  \n",
      " 8   Ticket       891 non-null    object \n",
      " 9   Fare         891 non-null    float64\n",
      " 10  Cabin        204 non-null    object \n",
      " 11  Embarked     889 non-null    object \n",
      "dtypes: float64(2), int64(5), object(5)\n",
      "memory usage: 83.7+ KB\n"
     ]
    }
   ],
   "source": [
    "df.info()"
   ]
  },
  {
   "cell_type": "code",
   "execution_count": 73,
   "id": "b24f1f42",
   "metadata": {},
   "outputs": [],
   "source": [
    "df['Name'] = df['Name'].str.replace('/','') "
   ]
  },
  {
   "cell_type": "code",
   "execution_count": 77,
   "id": "ef2d9102",
   "metadata": {},
   "outputs": [],
   "source": [
    "# функция удаления пунктуации и цифр\n",
    "def remove_trash(list): \n",
    "    pattern = '[^A-Za-z0-9]+'\n",
    "    try:\n",
    "      list = [re.sub(pattern, ' ', i) for i in list] \n",
    "      print (list)\n",
    "    except Exception as e:\n",
    "      print(e)\n",
    "    return list"
   ]
  },
  {
   "cell_type": "code",
   "execution_count": 78,
   "id": "4628dabc",
   "metadata": {},
   "outputs": [
    {
     "name": "stdout",
     "output_type": "stream",
     "text": [
      "['Braund Mr Owen Harris', 'Cumings Mrs John Bradley Florence Briggs Thayer ', 'Heikkinen Miss Laina', 'Futrelle Mrs Jacques Heath Lily May Peel ', 'Allen Mr William Henry', 'Moran Mr James', 'McCarthy Mr Timothy J', 'Palsson Master Gosta Leonard', 'Johnson Mrs Oscar W Elisabeth Vilhelmina Berg ', 'Nasser Mrs Nicholas Adele Achem ', 'Sandstrom Miss Marguerite Rut', 'Bonnell Miss Elizabeth', 'Saundercock Mr William Henry', 'Andersson Mr Anders Johan', 'Vestrom Miss Hulda Amanda Adolfina', 'Hewlett Mrs Mary D Kingcome ', 'Rice Master Eugene', 'Williams Mr Charles Eugene', 'Vander Planke Mrs Julius Emelia Maria Vandemoortele ', 'Masselmani Mrs Fatima', 'Fynney Mr Joseph J', 'Beesley Mr Lawrence', 'McGowan Miss Anna Annie ', 'Sloper Mr William Thompson', 'Palsson Miss Torborg Danira', 'Asplund Mrs Carl Oscar Selma Augusta Emilia Johansson ', 'Emir Mr Farred Chehab', 'Fortune Mr Charles Alexander', 'O Dwyer Miss Ellen Nellie ', 'Todoroff Mr Lalio', 'Uruchurtu Don Manuel E', 'Spencer Mrs William Augustus Marie Eugenie ', 'Glynn Miss Mary Agatha', 'Wheadon Mr Edward H', 'Meyer Mr Edgar Joseph', 'Holverson Mr Alexander Oskar', 'Mamee Mr Hanna', 'Cann Mr Ernest Charles', 'Vander Planke Miss Augusta Maria', 'Nicola Yarred Miss Jamila', 'Ahlin Mrs Johan Johanna Persdotter Larsson ', 'Turpin Mrs William John Robert Dorothy Ann Wonnacott ', 'Kraeff Mr Theodor', 'Laroche Miss Simonne Marie Anne Andree', 'Devaney Miss Margaret Delia', 'Rogers Mr William John', 'Lennon Mr Denis', 'O Driscoll Miss Bridget', 'Samaan Mr Youssef', 'Arnold Franchi Mrs Josef Josefine Franchi ', 'Panula Master Juha Niilo', 'Nosworthy Mr Richard Cater', 'Harper Mrs Henry Sleeper Myna Haxtun ', 'Faunthorpe Mrs Lizzie Elizabeth Anne Wilkinson ', 'Ostby Mr Engelhart Cornelius', 'Woolner Mr Hugh', 'Rugg Miss Emily', 'Novel Mr Mansouer', 'West Miss Constance Mirium', 'Goodwin Master William Frederick', 'Sirayanian Mr Orsen', 'Icard Miss Amelie', 'Harris Mr Henry Birkhardt', 'Skoog Master Harald', 'Stewart Mr Albert A', 'Moubarek Master Gerios', 'Nye Mrs Elizabeth Ramell ', 'Crease Mr Ernest James', 'Andersson Miss Erna Alexandra', 'Kink Mr Vincenz', 'Jenkin Mr Stephen Curnow', 'Goodwin Miss Lillian Amy', 'Hood Mr Ambrose Jr', 'Chronopoulos Mr Apostolos', 'Bing Mr Lee', 'Moen Mr Sigurd Hansen', 'Staneff Mr Ivan', 'Moutal Mr Rahamin Haim', 'Caldwell Master Alden Gates', 'Dowdell Miss Elizabeth', 'Waelens Mr Achille', 'Sheerlinck Mr Jan Baptist', 'McDermott Miss Brigdet Delia', 'Carrau Mr Francisco M', 'Ilett Miss Bertha', 'Backstrom Mrs Karl Alfred Maria Mathilda Gustafsson ', 'Ford Mr William Neal', 'Slocovski Mr Selman Francis', 'Fortune Miss Mabel Helen', 'Celotti Mr Francesco', 'Christmann Mr Emil', 'Andreasson Mr Paul Edvin', 'Chaffee Mr Herbert Fuller', 'Dean Mr Bertram Frank', 'Coxon Mr Daniel', 'Shorney Mr Charles Joseph', 'Goldschmidt Mr George B', 'Greenfield Mr William Bertram', 'Doling Mrs John T Ada Julia Bone ', 'Kantor Mr Sinai', 'Petranec Miss Matilda', 'Petroff Mr Pastcho Pentcho ', 'White Mr Richard Frasar', 'Johansson Mr Gustaf Joel', 'Gustafsson Mr Anders Vilhelm', 'Mionoff Mr Stoytcho', 'Salkjelsvik Miss Anna Kristine', 'Moss Mr Albert Johan', 'Rekic Mr Tido', 'Moran Miss Bertha', 'Porter Mr Walter Chamberlain', 'Zabour Miss Hileni', 'Barton Mr David John', 'Jussila Miss Katriina', 'Attalah Miss Malake', 'Pekoniemi Mr Edvard', 'Connors Mr Patrick', 'Turpin Mr William John Robert', 'Baxter Mr Quigg Edmond', 'Andersson Miss Ellis Anna Maria', 'Hickman Mr Stanley George', 'Moore Mr Leonard Charles', 'Nasser Mr Nicholas', 'Webber Miss Susan', 'White Mr Percival Wayland', 'Nicola Yarred Master Elias', 'McMahon Mr Martin', 'Madsen Mr Fridtjof Arne', 'Peter Miss Anna', 'Ekstrom Mr Johan', 'Drazenoic Mr Jozef', 'Coelho Mr Domingos Fernandeo', 'Robins Mrs Alexander A Grace Charity Laury ', 'Weisz Mrs Leopold Mathilde Francoise Pede ', 'Sobey Mr Samuel James Hayden', 'Richard Mr Emile', 'Newsom Miss Helen Monypeny', 'Futrelle Mr Jacques Heath', 'Osen Mr Olaf Elon', 'Giglio Mr Victor', 'Boulos Mrs Joseph Sultana ', 'Nysten Miss Anna Sofia', 'Hakkarainen Mrs Pekka Pietari Elin Matilda Dolck ', 'Burke Mr Jeremiah', 'Andrew Mr Edgardo Samuel', 'Nicholls Mr Joseph Charles', 'Andersson Mr August Edvard Wennerstrom ', 'Ford Miss Robina Maggie Ruby ', 'Navratil Mr Michel Louis M Hoffman ', 'Byles Rev Thomas Roussel Davids', 'Bateman Rev Robert James', 'Pears Mrs Thomas Edith Wearne ', 'Meo Mr Alfonzo', 'van Billiard Mr Austin Blyler', 'Olsen Mr Ole Martin', 'Williams Mr Charles Duane', 'Gilnagh Miss Katherine Katie ', 'Corn Mr Harry', 'Smiljanic Mr Mile', 'Sage Master Thomas Henry', 'Cribb Mr John Hatfield', 'Watt Mrs James Elizabeth Bessie Inglis Milne ', 'Bengtsson Mr John Viktor', 'Calic Mr Jovo', 'Panula Master Eino Viljami', 'Goldsmith Master Frank John William Frankie ', 'Chibnall Mrs Edith Martha Bowerman ', 'Skoog Mrs William Anna Bernhardina Karlsson ', 'Baumann Mr John D', 'Ling Mr Lee', 'Van der hoef Mr Wyckoff', 'Rice Master Arthur', 'Johnson Miss Eleanor Ileen', 'Sivola Mr Antti Wilhelm', 'Smith Mr James Clinch', 'Klasen Mr Klas Albin', 'Lefebre Master Henry Forbes', 'Isham Miss Ann Elizabeth', 'Hale Mr Reginald', 'Leonard Mr Lionel', 'Sage Miss Constance Gladys', 'Pernot Mr Rene', 'Asplund Master Clarence Gustaf Hugo', 'Becker Master Richard F', 'Kink Heilmann Miss Luise Gretchen', 'Rood Mr Hugh Roscoe', 'O Brien Mrs Thomas Johanna Hannah Godfrey ', 'Romaine Mr Charles Hallace Mr C Rolmane ', 'Bourke Mr John', 'Turcin Mr Stjepan', 'Pinsky Mrs Rosa ', 'Carbines Mr William', 'Andersen Jensen Miss Carla Christine Nielsine', 'Navratil Master Michel M', 'Brown Mrs James Joseph Margaret Tobin ', 'Lurette Miss Elise', 'Mernagh Mr Robert', 'Olsen Mr Karl Siegwart Andreas', 'Madigan Miss Margaret Maggie ', 'Yrois Miss Henriette Mrs Harbeck ', 'Vande Walle Mr Nestor Cyriel', 'Sage Mr Frederick', 'Johanson Mr Jakob Alfred', 'Youseff Mr Gerious', 'Cohen Mr Gurshon Gus ', 'Strom Miss Telma Matilda', 'Backstrom Mr Karl Alfred', 'Albimona Mr Nassef Cassem', 'Carr Miss Helen Ellen ', 'Blank Mr Henry', 'Ali Mr Ahmed', 'Cameron Miss Clear Annie', 'Perkin Mr John Henry', 'Givard Mr Hans Kristensen', 'Kiernan Mr Philip', 'Newell Miss Madeleine', 'Honkanen Miss Eliina', 'Jacobsohn Mr Sidney Samuel', 'Bazzani Miss Albina', 'Harris Mr Walter', 'Sunderland Mr Victor Francis', 'Bracken Mr James H', 'Green Mr George Henry', 'Nenkoff Mr Christo', 'Hoyt Mr Frederick Maxfield', 'Berglund Mr Karl Ivar Sven', 'Mellors Mr William John', 'Lovell Mr John Hall Henry ', 'Fahlstrom Mr Arne Jonas', 'Lefebre Miss Mathilde', 'Harris Mrs Henry Birkhardt Irene Wallach ', 'Larsson Mr Bengt Edvin', 'Sjostedt Mr Ernst Adolf', 'Asplund Miss Lillian Gertrud', 'Leyson Mr Robert William Norman', 'Harknett Miss Alice Phoebe', 'Hold Mr Stephen', 'Collyer Miss Marjorie Lottie ', 'Pengelly Mr Frederick William', 'Hunt Mr George Henry', 'Zabour Miss Thamine', 'Murphy Miss Katherine Kate ', 'Coleridge Mr Reginald Charles', 'Maenpaa Mr Matti Alexanteri', 'Attalah Mr Sleiman', 'Minahan Dr William Edward', 'Lindahl Miss Agda Thorilda Viktoria', 'Hamalainen Mrs William Anna ', 'Beckwith Mr Richard Leonard', 'Carter Rev Ernest Courtenay', 'Reed Mr James George', 'Strom Mrs Wilhelm Elna Matilda Persson ', 'Stead Mr William Thomas', 'Lobb Mr William Arthur', 'Rosblom Mrs Viktor Helena Wilhelmina ', 'Touma Mrs Darwis Hanne Youssef Razi ', 'Thorne Mrs Gertrude Maybelle', 'Cherry Miss Gladys', 'Ward Miss Anna', 'Parrish Mrs Lutie Davis ', 'Smith Mr Thomas', 'Asplund Master Edvin Rojj Felix', 'Taussig Mr Emil', 'Harrison Mr William', 'Henry Miss Delia', 'Reeves Mr David', 'Panula Mr Ernesti Arvid', 'Persson Mr Ernst Ulrik', 'Graham Mrs William Thompson Edith Junkins ', 'Bissette Miss Amelia', 'Cairns Mr Alexander', 'Tornquist Mr William Henry', 'Mellinger Mrs Elizabeth Anne Maidment ', 'Natsch Mr Charles H', 'Healy Miss Hanora Nora ', 'Andrews Miss Kornelia Theodosia', 'Lindblom Miss Augusta Charlotta', 'Parkes Mr Francis Frank ', 'Rice Master Eric', 'Abbott Mrs Stanton Rosa Hunt ', 'Duane Mr Frank', 'Olsson Mr Nils Johan Goransson', 'de Pelsmaeker Mr Alfons', 'Dorking Mr Edward Arthur', 'Smith Mr Richard William', 'Stankovic Mr Ivan', 'de Mulder Mr Theodore', 'Naidenoff Mr Penko', 'Hosono Mr Masabumi', 'Connolly Miss Kate', 'Barber Miss Ellen Nellie ', 'Bishop Mrs Dickinson H Helen Walton ', 'Levy Mr Rene Jacques', 'Haas Miss Aloisia', 'Mineff Mr Ivan', 'Lewy Mr Ervin G', 'Hanna Mr Mansour', 'Allison Miss Helen Loraine', 'Saalfeld Mr Adolphe', 'Baxter Mrs James Helene DeLaudeniere Chaput ', 'Kelly Miss Anna Katherine Annie Kate ', 'McCoy Mr Bernard', 'Johnson Mr William Cahoone Jr', 'Keane Miss Nora A', 'Williams Mr Howard Hugh Harry ', 'Allison Master Hudson Trevor', 'Fleming Miss Margaret', 'Penasco y Castellana Mrs Victor de Satode Maria Josefa Perez de Soto y Vallejo ', 'Abelson Mr Samuel', 'Francatelli Miss Laura Mabel', 'Hays Miss Margaret Bechstein', 'Ryerson Miss Emily Borie', 'Lahtinen Mrs William Anna Sylfven ', 'Hendekovic Mr Ignjac', 'Hart Mr Benjamin', 'Nilsson Miss Helmina Josefina', 'Kantor Mrs Sinai Miriam Sternin ', 'Moraweck Dr Ernest', 'Wick Miss Mary Natalie', 'Spedden Mrs Frederic Oakley Margaretta Corning Stone ', 'Dennis Mr Samuel', 'Danoff Mr Yoto', 'Slayter Miss Hilda Mary', 'Caldwell Mrs Albert Francis Sylvia Mae Harbaugh ', 'Sage Mr George John Jr', 'Young Miss Marie Grice', 'Nysveen Mr Johan Hansen', 'Ball Mrs Ada E Hall ', 'Goldsmith Mrs Frank John Emily Alice Brown ', 'Hippach Miss Jean Gertrude', 'McCoy Miss Agnes', 'Partner Mr Austen', 'Graham Mr George Edward', 'Vander Planke Mr Leo Edmondus', 'Frauenthal Mrs Henry William Clara Heinsheimer ', 'Denkoff Mr Mitto', 'Pears Mr Thomas Clinton', 'Burns Miss Elizabeth Margaret', 'Dahl Mr Karl Edwart', 'Blackwell Mr Stephen Weart', 'Navratil Master Edmond Roger', 'Fortune Miss Alice Elizabeth', 'Collander Mr Erik Gustaf', 'Sedgwick Mr Charles Frederick Waddington', 'Fox Mr Stanley Hubert', 'Brown Miss Amelia Mildred ', 'Smith Miss Marion Elsie', 'Davison Mrs Thomas Henry Mary E Finck ', 'Coutts Master William Loch William ', 'Dimic Mr Jovan', 'Odahl Mr Nils Martin', 'Williams Lambert Mr Fletcher Fellows', 'Elias Mr Tannous', 'Arnold Franchi Mr Josef', 'Yousif Mr Wazli', 'Vanden Steen Mr Leo Peter', 'Bowerman Miss Elsie Edith', 'Funk Miss Annie Clemmer', 'McGovern Miss Mary', 'Mockler Miss Helen Mary Ellie ', 'Skoog Mr Wilhelm', 'del Carlo Mr Sebastiano', 'Barbara Mrs Catherine David ', 'Asim Mr Adola', 'O Brien Mr Thomas', 'Adahl Mr Mauritz Nils Martin', 'Warren Mrs Frank Manley Anna Sophia Atkinson ', 'Moussa Mrs Mantoura Boulos ', 'Jermyn Miss Annie', 'Aubart Mme Leontine Pauline', 'Harder Mr George Achilles', 'Wiklund Mr Jakob Alfred', 'Beavan Mr William Thomas', 'Ringhini Mr Sante', 'Palsson Miss Stina Viola', 'Meyer Mrs Edgar Joseph Leila Saks ', 'Landergren Miss Aurora Adelia', 'Widener Mr Harry Elkins', 'Betros Mr Tannous', 'Gustafsson Mr Karl Gideon', 'Bidois Miss Rosalie', 'Nakid Miss Maria Mary ', 'Tikkanen Mr Juho', 'Holverson Mrs Alexander Oskar Mary Aline Towner ', 'Plotcharsky Mr Vasil', 'Davies Mr Charles Henry', 'Goodwin Master Sidney Leonard', 'Buss Miss Kate', 'Sadlier Mr Matthew', 'Lehmann Miss Bertha', 'Carter Mr William Ernest', 'Jansson Mr Carl Olof', 'Gustafsson Mr Johan Birger', 'Newell Miss Marjorie', 'Sandstrom Mrs Hjalmar Agnes Charlotta Bengtsson ', 'Johansson Mr Erik', 'Olsson Miss Elina', 'McKane Mr Peter David', 'Pain Dr Alfred', 'Trout Mrs William H Jessie L ', 'Niskanen Mr Juha', 'Adams Mr John', 'Jussila Miss Mari Aina', 'Hakkarainen Mr Pekka Pietari', 'Oreskovic Miss Marija', 'Gale Mr Shadrach', 'Widegren Mr CarlCharles Peter', 'Richards Master William Rowe', 'Birkeland Mr Hans Martin Monsen', 'Lefebre Miss Ida', 'Sdycoff Mr Todor', 'Hart Mr Henry', 'Minahan Miss Daisy E', 'Cunningham Mr Alfred Fleming', 'Sundman Mr Johan Julian', 'Meek Mrs Thomas Annie Louise Rowley ', 'Drew Mrs James Vivian Lulu Thorne Christian ', 'Silven Miss Lyyli Karoliina', 'Matthews Mr William John', 'Van Impe Miss Catharina', 'Gheorgheff Mr Stanio', 'Charters Mr David', 'Zimmerman Mr Leo', 'Danbom Mrs Ernst Gilbert Anna Sigrid Maria Brogren ', 'Rosblom Mr Viktor Richard', 'Wiseman Mr Phillippe', 'Clarke Mrs Charles V Ada Maria Winfield ', 'Phillips Miss Kate Florence Mrs Kate Louise Phillips Marshall ', 'Flynn Mr James', 'Pickard Mr Berk Berk Trembisky ', 'Bjornstrom Steffansson Mr Mauritz Hakan', 'Thorneycroft Mrs Percival Florence Kate White ', 'Louch Mrs Charles Alexander Alice Adelaide Slow ', 'Kallio Mr Nikolai Erland', 'Silvey Mr William Baird', 'Carter Miss Lucile Polk', 'Ford Miss Doolina Margaret Daisy ', 'Richards Mrs Sidney Emily Hocking ', 'Fortune Mr Mark', 'Kvillner Mr Johan Henrik Johannesson', 'Hart Mrs Benjamin Esther Ada Bloomfield ', 'Hampe Mr Leon', 'Petterson Mr Johan Emil', 'Reynaldo Ms Encarnacion', 'Johannesen Bratthammer Mr Bernt', 'Dodge Master Washington', 'Mellinger Miss Madeleine Violet', 'Seward Mr Frederic Kimber', 'Baclini Miss Marie Catherine', 'Peuchen Major Arthur Godfrey', 'West Mr Edwy Arthur', 'Hagland Mr Ingvald Olai Olsen', 'Foreman Mr Benjamin Laventall', 'Goldenberg Mr Samuel L', 'Peduzzi Mr Joseph', 'Jalsevac Mr Ivan', 'Millet Mr Francis Davis', 'Kenyon Mrs Frederick R Marion ', 'Toomey Miss Ellen', 'O Connor Mr Maurice', 'Anderson Mr Harry', 'Morley Mr William', 'Gee Mr Arthur H', 'Milling Mr Jacob Christian', 'Maisner Mr Simon', 'Goncalves Mr Manuel Estanslas', 'Campbell Mr William', 'Smart Mr John Montgomery', 'Scanlan Mr James', 'Baclini Miss Helene Barbara', 'Keefe Mr Arthur', 'Cacic Mr Luka', 'West Mrs Edwy Arthur Ada Mary Worth ', 'Jerwan Mrs Amin S Marie Marthe Thuillard ', 'Strandberg Miss Ida Sofia', 'Clifford Mr George Quincy', 'Renouf Mr Peter Henry', 'Braund Mr Lewis Richard', 'Karlsson Mr Nils August', 'Hirvonen Miss Hildur E', 'Goodwin Master Harold Victor', 'Frost Mr Anthony Wood Archie ', 'Rouse Mr Richard Henry', 'Turkula Mrs Hedwig ', 'Bishop Mr Dickinson H', 'Lefebre Miss Jeannie', 'Hoyt Mrs Frederick Maxfield Jane Anne Forby ', 'Kent Mr Edward Austin', 'Somerton Mr Francis William', 'Coutts Master Eden Leslie Neville ', 'Hagland Mr Konrad Mathias Reiersen', 'Windelov Mr Einar', 'Molson Mr Harry Markland', 'Artagaveytia Mr Ramon', 'Stanley Mr Edward Roland', 'Yousseff Mr Gerious', 'Eustis Miss Elizabeth Mussey', 'Shellard Mr Frederick William', 'Allison Mrs Hudson J C Bessie Waldo Daniels ', 'Svensson Mr Olof', 'Calic Mr Petar', 'Canavan Miss Mary', 'O Sullivan Miss Bridget Mary', 'Laitinen Miss Kristina Sofia', 'Maioni Miss Roberta', 'Penasco y Castellana Mr Victor de Satode', 'Quick Mrs Frederick Charles Jane Richards ', 'Bradley Mr George George Arthur Brayton ', 'Olsen Mr Henry Margido', 'Lang Mr Fang', 'Daly Mr Eugene Patrick', 'Webber Mr James', 'McGough Mr James Robert', 'Rothschild Mrs Martin Elizabeth L Barrett ', 'Coleff Mr Satio', 'Walker Mr William Anderson', 'Lemore Mrs Amelia Milley ', 'Ryan Mr Patrick', 'Angle Mrs William A Florence Mary Agnes Hughes ', 'Pavlovic Mr Stefo', 'Perreault Miss Anne', 'Vovk Mr Janko', 'Lahoud Mr Sarkis', 'Hippach Mrs Louis Albert Ida Sophia Fischer ', 'Kassem Mr Fared', 'Farrell Mr James', 'Ridsdale Miss Lucy', 'Farthing Mr John', 'Salonen Mr Johan Werner', 'Hocking Mr Richard George', 'Quick Miss Phyllis May', 'Toufik Mr Nakli', 'Elias Mr Joseph Jr', 'Peter Mrs Catherine Catherine Rizk ', 'Cacic Miss Marija', 'Hart Miss Eva Miriam', 'Butt Major Archibald Willingham', 'LeRoy Miss Bertha', 'Risien Mr Samuel Beard', 'Frolicher Miss Hedwig Margaritha', 'Crosby Miss Harriet R', 'Andersson Miss Ingeborg Constanzia', 'Andersson Miss Sigrid Elisabeth', 'Beane Mr Edward', 'Douglas Mr Walter Donald', 'Nicholson Mr Arthur Ernest', 'Beane Mrs Edward Ethel Clarke ', 'Padro y Manent Mr Julian', 'Goldsmith Mr Frank John', 'Davies Master John Morgan Jr', 'Thayer Mr John Borland Jr', 'Sharp Mr Percival James R', 'O Brien Mr Timothy', 'Leeni Mr Fahim Philip Zenni ', 'Ohman Miss Velin', 'Wright Mr George', 'Duff Gordon Lady Lucille Christiana Sutherland Mrs Morgan ', 'Robbins Mr Victor', 'Taussig Mrs Emil Tillie Mandelbaum ', 'de Messemaeker Mrs Guillaume Joseph Emma ', 'Morrow Mr Thomas Rowan', 'Sivic Mr Husein', 'Norman Mr Robert Douglas', 'Simmons Mr John', 'Meanwell Miss Marion Ogden ', 'Davies Mr Alfred J', 'Stoytcheff Mr Ilia', 'Palsson Mrs Nils Alma Cornelia Berglund ', 'Doharr Mr Tannous', 'Jonsson Mr Carl', 'Harris Mr George', 'Appleton Mrs Edward Dale Charlotte Lamson ', 'Flynn Mr John Irwin Irving ', 'Kelly Miss Mary', 'Rush Mr Alfred George John', 'Patchett Mr George', 'Garside Miss Ethel', 'Silvey Mrs William Baird Alice Munger ', 'Caram Mrs Joseph Maria Elias ', 'Jussila Mr Eiriik', 'Christy Miss Julie Rachel', 'Thayer Mrs John Borland Marian Longstreth Morris ', 'Downton Mr William James', 'Ross Mr John Hugo', 'Paulner Mr Uscher', 'Taussig Miss Ruth', 'Jarvis Mr John Denzil', 'Frolicher Stehli Mr Maxmillian', 'Gilinski Mr Eliezer', 'Murdlin Mr Joseph', 'Rintamaki Mr Matti', 'Stephenson Mrs Walter Bertram Martha Eustis ', 'Elsbury Mr William James', 'Bourke Miss Mary', 'Chapman Mr John Henry', 'Van Impe Mr Jean Baptiste', 'Leitch Miss Jessie Wills', 'Johnson Mr Alfred', 'Boulos Mr Hanna', 'Duff Gordon Sir Cosmo Edmund Mr Morgan ', 'Jacobsohn Mrs Sidney Samuel Amy Frances Christy ', 'Slabenoff Mr Petco', 'Harrington Mr Charles H', 'Torber Mr Ernst William', 'Homer Mr Harry Mr E Haven ', 'Lindell Mr Edvard Bengtsson', 'Karaic Mr Milan', 'Daniel Mr Robert Williams', 'Laroche Mrs Joseph Juliette Marie Louise Lafargue ', 'Shutes Miss Elizabeth W', 'Andersson Mrs Anders Johan Alfrida Konstantia Brogren ', 'Jardin Mr Jose Neto', 'Murphy Miss Margaret Jane', 'Horgan Mr John', 'Brocklebank Mr William Alfred', 'Herman Miss Alice', 'Danbom Mr Ernst Gilbert', 'Lobb Mrs William Arthur Cordelia K Stanlick ', 'Becker Miss Marion Louise', 'Gavey Mr Lawrence', 'Yasbeck Mr Antoni', 'Kimball Mr Edwin Nelson Jr', 'Nakid Mr Sahid', 'Hansen Mr Henry Damsgaard', 'Bowen Mr David John Dai ', 'Sutton Mr Frederick', 'Kirkland Rev Charles Leonard', 'Longley Miss Gretchen Fiske', 'Bostandyeff Mr Guentcho', 'O Connell Mr Patrick D', 'Barkworth Mr Algernon Henry Wilson', 'Lundahl Mr Johan Svensson', 'Stahelin Maeglin Dr Max', 'Parr Mr William Henry Marsh', 'Skoog Miss Mabel', 'Davis Miss Mary', 'Leinonen Mr Antti Gustaf', 'Collyer Mr Harvey', 'Panula Mrs Juha Maria Emilia Ojala ', 'Thorneycroft Mr Percival', 'Jensen Mr Hans Peder', 'Sagesser Mlle Emma', 'Skoog Miss Margit Elizabeth', 'Foo Mr Choong', 'Baclini Miss Eugenie', 'Harper Mr Henry Sleeper', 'Cor Mr Liudevit', 'Simonius Blumer Col Oberst Alfons', 'Willey Mr Edward', 'Stanley Miss Amy Zillah Elsie', 'Mitkoff Mr Mito', 'Doling Miss Elsie', 'Kalvik Mr Johannes Halvorsen', 'O Leary Miss Hanora Norah ', 'Hegarty Miss Hanora Nora ', 'Hickman Mr Leonard Mark', 'Radeff Mr Alexander', 'Bourke Mrs John Catherine ', 'Eitemiller Mr George Floyd', 'Newell Mr Arthur Webster', 'Frauenthal Dr Henry William', 'Badt Mr Mohamed', 'Colley Mr Edward Pomeroy', 'Coleff Mr Peju', 'Lindqvist Mr Eino William', 'Hickman Mr Lewis', 'Butler Mr Reginald Fenton', 'Rommetvedt Mr Knud Paust', 'Cook Mr Jacob', 'Taylor Mrs Elmer Zebley Juliet Cummins Wright ', 'Brown Mrs Thomas William Solomon Elizabeth Catherine Ford ', 'Davidson Mr Thornton', 'Mitchell Mr Henry Michael', 'Wilhelms Mr Charles', 'Watson Mr Ennis Hastings', 'Edvardsson Mr Gustaf Hjalmar', 'Sawyer Mr Frederick Charles', 'Turja Miss Anna Sofia', 'Goodwin Mrs Frederick Augusta Tyler ', 'Cardeza Mr Thomas Drake Martinez', 'Peters Miss Katie', 'Hassab Mr Hammad', 'Olsvigen Mr Thor Anderson', 'Goodwin Mr Charles Edward', 'Brown Mr Thomas William Solomon', 'Laroche Mr Joseph Philippe Lemercier', 'Panula Mr Jaako Arnold', 'Dakic Mr Branko', 'Fischer Mr Eberhard Thelander', 'Madill Miss Georgette Alexandra', 'Dick Mr Albert Adrian', 'Karun Miss Manca', 'Lam Mr Ali', 'Saad Mr Khalil', 'Weir Col John', 'Chapman Mr Charles Henry', 'Kelly Mr James', 'Mullens Miss Katherine Katie ', 'Thayer Mr John Borland', 'Humblen Mr Adolf Mathias Nicolai Olsen', 'Astor Mrs John Jacob Madeleine Talmadge Force ', 'Silverthorne Mr Spencer Victor', 'Barbara Miss Saiide', 'Gallagher Mr Martin', 'Hansen Mr Henrik Juul', 'Morley Mr Henry Samuel Mr Henry Marshall ', 'Kelly Mrs Florence Fannie ', 'Calderhead Mr Edward Pennington', 'Cleaver Miss Alice', 'Moubarek Master Halim Gonios William George ', 'Mayne Mlle Berthe Antonine Mrs de Villiers ', 'Klaber Mr Herman', 'Taylor Mr Elmer Zebley', 'Larsson Mr August Viktor', 'Greenberg Mr Samuel', 'Soholt Mr Peter Andreas Lauritz Andersen', 'Endres Miss Caroline Louise', 'Troutt Miss Edwina Celia Winnie ', 'McEvoy Mr Michael', 'Johnson Mr Malkolm Joackim', 'Harper Miss Annie Jessie Nina ', 'Jensen Mr Svend Lauritz', 'Gillespie Mr William Henry', 'Hodges Mr Henry Price', 'Chambers Mr Norman Campbell', 'Oreskovic Mr Luka', 'Renouf Mrs Peter Henry Lillian Jefferys ', 'Mannion Miss Margareth', 'Bryhl Mr Kurt Arnold Gottfrid', 'Ilmakangas Miss Pieta Sofia', 'Allen Miss Elisabeth Walton', 'Hassan Mr Houssein G N', 'Knight Mr Robert J', 'Berriman Mr William John', 'Troupiansky Mr Moses Aaron', 'Williams Mr Leslie', 'Ford Mrs Edward Margaret Ann Watson ', 'Lesurer Mr Gustave J', 'Ivanoff Mr Kanio', 'Nankoff Mr Minko', 'Hawksford Mr Walter James', 'Cavendish Mr Tyrell William', 'Ryerson Miss Susan Parker Suzette ', 'McNamee Mr Neal', 'Stranden Mr Juho', 'Crosby Capt Edward Gifford', 'Abbott Mr Rossmore Edward', 'Sinkkonen Miss Anna', 'Marvin Mr Daniel Warner', 'Connaghton Mr Michael', 'Wells Miss Joan', 'Moor Master Meier', 'Vande Velde Mr Johannes Joseph', 'Jonkoff Mr Lalio', 'Herman Mrs Samuel Jane Laver ', 'Hamalainen Master Viljo', 'Carlsson Mr August Sigfrid', 'Bailey Mr Percy Andrew', 'Theobald Mr Thomas Leonard', 'Rothes the Countess of Lucy Noel Martha Dyer Edwards ', 'Garfirth Mr John', 'Nirva Mr Iisakki Antino Aijo', 'Barah Mr Hanna Assi', 'Carter Mrs William Ernest Lucile Polk ', 'Eklund Mr Hans Linus', 'Hogeboom Mrs John C Anna Andrews ', 'Brewe Dr Arthur Jackson', 'Mangan Miss Mary', 'Moran Mr Daniel J', 'Gronnestad Mr Daniel Danielsen', 'Lievens Mr Rene Aime', 'Jensen Mr Niels Peder', 'Mack Mrs Mary ', 'Elias Mr Dibo', 'Hocking Mrs Elizabeth Eliza Needs ', 'Myhrman Mr Pehr Fabian Oliver Malkolm', 'Tobin Mr Roger', 'Emanuel Miss Virginia Ethel', 'Kilgannon Mr Thomas J', 'Robert Mrs Edward Scott Elisabeth Walton McMillan ', 'Ayoub Miss Banoura', 'Dick Mrs Albert Adrian Vera Gillespie ', 'Long Mr Milton Clyde', 'Johnston Mr Andrew G', 'Ali Mr William', 'Harmer Mr Abraham David Lishin ', 'Sjoblom Miss Anna Sofia', 'Rice Master George Hugh', 'Dean Master Bertram Vere', 'Guggenheim Mr Benjamin', 'Keane Mr Andrew Andy ', 'Gaskell Mr Alfred', 'Sage Miss Stella Anna', 'Hoyt Mr William Fisher', 'Dantcheff Mr Ristiu', 'Otter Mr Richard', 'Leader Dr Alice Farnham ', 'Osman Mrs Mara', 'Ibrahim Shawah Mr Yousseff', 'Van Impe Mrs Jean Baptiste Rosalie Paula Govaert ', 'Ponesell Mr Martin', 'Collyer Mrs Harvey Charlotte Annie Tate ', 'Carter Master William Thornton II', 'Thomas Master Assad Alexander', 'Hedman Mr Oskar Arvid', 'Johansson Mr Karl Johan', 'Andrews Mr Thomas Jr', 'Pettersson Miss Ellen Natalia', 'Meyer Mr August', 'Chambers Mrs Norman Campbell Bertha Griggs ', 'Alexander Mr William', 'Lester Mr James', 'Slemen Mr Richard James', 'Andersson Miss Ebba Iris Alfrida', 'Tomlin Mr Ernest Portage', 'Fry Mr Richard', 'Heininen Miss Wendla Maria', 'Mallet Mr Albert', 'Holm Mr John Fredrik Alexander', 'Skoog Master Karl Thorsten', 'Hays Mrs Charles Melville Clara Jennings Gregg ', 'Lulic Mr Nikola', 'Reuchlin Jonkheer John George', 'Moor Mrs Beila ', 'Panula Master Urho Abraham', 'Flynn Mr John', 'Lam Mr Len', 'Mallet Master Andre', 'McCormack Mr Thomas Joseph', 'Stone Mrs George Nelson Martha Evelyn ', 'Yasbeck Mrs Antoni Selini Alexander ', 'Richards Master George Sibley', 'Saad Mr Amin', 'Augustsson Mr Albert', 'Allum Mr Owen George', 'Compton Miss Sara Rebecca', 'Pasic Mr Jakob', 'Sirota Mr Maurice', 'Chip Mr Chang', 'Marechal Mr Pierre', 'Alhomaki Mr Ilmari Rudolf', 'Mudd Mr Thomas Charles', 'Serepeca Miss Augusta', 'Lemberopolous Mr Peter L', 'Culumovic Mr Jeso', 'Abbing Mr Anthony', 'Sage Mr Douglas Bullen', 'Markoff Mr Marin', 'Harper Rev John', 'Goldenberg Mrs Samuel L Edwiga Grabowska ', 'Andersson Master Sigvard Harald Elias', 'Svensson Mr Johan', 'Boulos Miss Nourelain', 'Lines Miss Mary Conover', 'Carter Mrs Ernest Courtenay Lilian Hughes ', 'Aks Mrs Sam Leah Rosen ', 'Wick Mrs George Dennick Mary Hitchcock ', 'Daly Mr Peter Denis ', 'Baclini Mrs Solomon Latifa Qurban ', 'Razi Mr Raihed', 'Hansen Mr Claus Peter', 'Giles Mr Frederick Edward', 'Swift Mrs Frederick Joel Margaret Welles Barron ', 'Sage Miss Dorothy Edith Dolly ', 'Gill Mr John William', 'Bystrom Mrs Karolina ', 'Duran y More Miss Asuncion', 'Roebling Mr Washington Augustus II', 'van Melkebeke Mr Philemon', 'Johnson Master Harold Theodor', 'Balkic Mr Cerin', 'Beckwith Mrs Richard Leonard Sallie Monypeny ', 'Carlsson Mr Frans Olof', 'Vander Cruyssen Mr Victor', 'Abelson Mrs Samuel Hannah Wizosky ', 'Najib Miss Adele Kiamie Jane ', 'Gustafsson Mr Alfred Ossian', 'Petroff Mr Nedelio', 'Laleff Mr Kristo', 'Potter Mrs Thomas Jr Lily Alexenia Wilson ', 'Shelley Mrs William Imanita Parrish Hall ', 'Markun Mr Johann', 'Dahlberg Miss Gerda Ulrika', 'Banfield Mr Frederick James', 'Sutehall Mr Henry Jr', 'Rice Mrs William Margaret Norton ', 'Montvila Rev Juozas', 'Graham Miss Margaret Edith', 'Johnston Miss Catherine Helen Carrie ', 'Behr Mr Karl Howell', 'Dooley Mr Patrick']\n"
     ]
    }
   ],
   "source": [
    "df['Name_clean'] = remove_trash(df['Name'])"
   ]
  },
  {
   "cell_type": "code",
   "execution_count": 79,
   "id": "67c407b7",
   "metadata": {},
   "outputs": [
    {
     "data": {
      "text/html": [
       "<div>\n",
       "<style scoped>\n",
       "    .dataframe tbody tr th:only-of-type {\n",
       "        vertical-align: middle;\n",
       "    }\n",
       "\n",
       "    .dataframe tbody tr th {\n",
       "        vertical-align: top;\n",
       "    }\n",
       "\n",
       "    .dataframe thead th {\n",
       "        text-align: right;\n",
       "    }\n",
       "</style>\n",
       "<table border=\"1\" class=\"dataframe\">\n",
       "  <thead>\n",
       "    <tr style=\"text-align: right;\">\n",
       "      <th></th>\n",
       "      <th>PassengerId</th>\n",
       "      <th>Survived</th>\n",
       "      <th>Pclass</th>\n",
       "      <th>Name</th>\n",
       "      <th>Sex</th>\n",
       "      <th>Age</th>\n",
       "      <th>SibSp</th>\n",
       "      <th>Parch</th>\n",
       "      <th>Ticket</th>\n",
       "      <th>Fare</th>\n",
       "      <th>Cabin</th>\n",
       "      <th>Embarked</th>\n",
       "      <th>Name_clean</th>\n",
       "    </tr>\n",
       "  </thead>\n",
       "  <tbody>\n",
       "    <tr>\n",
       "      <th>0</th>\n",
       "      <td>1</td>\n",
       "      <td>0</td>\n",
       "      <td>3</td>\n",
       "      <td>Braund, Mr. Owen Harris</td>\n",
       "      <td>male</td>\n",
       "      <td>22.0</td>\n",
       "      <td>1</td>\n",
       "      <td>0</td>\n",
       "      <td>A/5 21171</td>\n",
       "      <td>7.2500</td>\n",
       "      <td>NaN</td>\n",
       "      <td>S</td>\n",
       "      <td>Braund Mr Owen Harris</td>\n",
       "    </tr>\n",
       "    <tr>\n",
       "      <th>1</th>\n",
       "      <td>2</td>\n",
       "      <td>1</td>\n",
       "      <td>1</td>\n",
       "      <td>Cumings, Mrs. John Bradley (Florence Briggs Th...</td>\n",
       "      <td>female</td>\n",
       "      <td>38.0</td>\n",
       "      <td>1</td>\n",
       "      <td>0</td>\n",
       "      <td>PC 17599</td>\n",
       "      <td>71.2833</td>\n",
       "      <td>C85</td>\n",
       "      <td>C</td>\n",
       "      <td>Cumings Mrs John Bradley Florence Briggs Thayer</td>\n",
       "    </tr>\n",
       "    <tr>\n",
       "      <th>2</th>\n",
       "      <td>3</td>\n",
       "      <td>1</td>\n",
       "      <td>3</td>\n",
       "      <td>Heikkinen, Miss. Laina</td>\n",
       "      <td>female</td>\n",
       "      <td>26.0</td>\n",
       "      <td>0</td>\n",
       "      <td>0</td>\n",
       "      <td>STON/O2. 3101282</td>\n",
       "      <td>7.9250</td>\n",
       "      <td>NaN</td>\n",
       "      <td>S</td>\n",
       "      <td>Heikkinen Miss Laina</td>\n",
       "    </tr>\n",
       "    <tr>\n",
       "      <th>3</th>\n",
       "      <td>4</td>\n",
       "      <td>1</td>\n",
       "      <td>1</td>\n",
       "      <td>Futrelle, Mrs. Jacques Heath (Lily May Peel)</td>\n",
       "      <td>female</td>\n",
       "      <td>35.0</td>\n",
       "      <td>1</td>\n",
       "      <td>0</td>\n",
       "      <td>113803</td>\n",
       "      <td>53.1000</td>\n",
       "      <td>C123</td>\n",
       "      <td>S</td>\n",
       "      <td>Futrelle Mrs Jacques Heath Lily May Peel</td>\n",
       "    </tr>\n",
       "    <tr>\n",
       "      <th>4</th>\n",
       "      <td>5</td>\n",
       "      <td>0</td>\n",
       "      <td>3</td>\n",
       "      <td>Allen, Mr. William Henry</td>\n",
       "      <td>male</td>\n",
       "      <td>35.0</td>\n",
       "      <td>0</td>\n",
       "      <td>0</td>\n",
       "      <td>373450</td>\n",
       "      <td>8.0500</td>\n",
       "      <td>NaN</td>\n",
       "      <td>S</td>\n",
       "      <td>Allen Mr William Henry</td>\n",
       "    </tr>\n",
       "  </tbody>\n",
       "</table>\n",
       "</div>"
      ],
      "text/plain": [
       "   PassengerId  Survived  Pclass  \\\n",
       "0            1         0       3   \n",
       "1            2         1       1   \n",
       "2            3         1       3   \n",
       "3            4         1       1   \n",
       "4            5         0       3   \n",
       "\n",
       "                                                Name     Sex   Age  SibSp  \\\n",
       "0                            Braund, Mr. Owen Harris    male  22.0      1   \n",
       "1  Cumings, Mrs. John Bradley (Florence Briggs Th...  female  38.0      1   \n",
       "2                             Heikkinen, Miss. Laina  female  26.0      0   \n",
       "3       Futrelle, Mrs. Jacques Heath (Lily May Peel)  female  35.0      1   \n",
       "4                           Allen, Mr. William Henry    male  35.0      0   \n",
       "\n",
       "   Parch            Ticket     Fare Cabin Embarked  \\\n",
       "0      0         A/5 21171   7.2500   NaN        S   \n",
       "1      0          PC 17599  71.2833   C85        C   \n",
       "2      0  STON/O2. 3101282   7.9250   NaN        S   \n",
       "3      0            113803  53.1000  C123        S   \n",
       "4      0            373450   8.0500   NaN        S   \n",
       "\n",
       "                                         Name_clean  \n",
       "0                             Braund Mr Owen Harris  \n",
       "1  Cumings Mrs John Bradley Florence Briggs Thayer   \n",
       "2                              Heikkinen Miss Laina  \n",
       "3         Futrelle Mrs Jacques Heath Lily May Peel   \n",
       "4                            Allen Mr William Henry  "
      ]
     },
     "execution_count": 79,
     "metadata": {},
     "output_type": "execute_result"
    }
   ],
   "source": [
    "df.head()"
   ]
  },
  {
   "cell_type": "code",
   "execution_count": 81,
   "id": "b289df22",
   "metadata": {},
   "outputs": [
    {
     "data": {
      "text/plain": [
       "0"
      ]
     },
     "execution_count": 81,
     "metadata": {},
     "output_type": "execute_result"
    }
   ],
   "source": [
    "df.Name.isna().sum()"
   ]
  },
  {
   "cell_type": "code",
   "execution_count": 82,
   "id": "148fa9ad",
   "metadata": {},
   "outputs": [
    {
     "data": {
      "text/plain": [
       "(891, 13)"
      ]
     },
     "execution_count": 82,
     "metadata": {},
     "output_type": "execute_result"
    }
   ],
   "source": [
    "df.shape"
   ]
  },
  {
   "cell_type": "code",
   "execution_count": 83,
   "id": "f1d710e4",
   "metadata": {},
   "outputs": [],
   "source": [
    "from nltk.corpus import stopwords\n",
    "from sklearn.feature_extraction.text import TfidfVectorizer\n",
    "import nltk"
   ]
  },
  {
   "cell_type": "code",
   "execution_count": 84,
   "id": "dd22fec2",
   "metadata": {},
   "outputs": [],
   "source": [
    "stop_english = stopwords.words('english')"
   ]
  },
  {
   "cell_type": "code",
   "execution_count": 85,
   "id": "682513c5",
   "metadata": {},
   "outputs": [
    {
     "data": {
      "text/plain": [
       "179"
      ]
     },
     "execution_count": 85,
     "metadata": {},
     "output_type": "execute_result"
    }
   ],
   "source": [
    "len(stop_english)"
   ]
  },
  {
   "cell_type": "code",
   "execution_count": 86,
   "id": "0e5d300e",
   "metadata": {},
   "outputs": [],
   "source": [
    "text_transformer = TfidfVectorizer(stop_words=stop_english, ngram_range=(1,1), lowercase=True, max_features=15000 ) "
   ]
  },
  {
   "cell_type": "code",
   "execution_count": 88,
   "id": "ae95ff5c",
   "metadata": {},
   "outputs": [],
   "source": [
    "Name = text_transformer.fit_transform(df['Name_clean']) "
   ]
  },
  {
   "cell_type": "code",
   "execution_count": 141,
   "id": "c3f986ce",
   "metadata": {},
   "outputs": [],
   "source": [
    "X_train, X_test, y_train, y_test = train_test_split(Name, df['Survived'], test_size=0.27, random_state=1877)"
   ]
  },
  {
   "cell_type": "code",
   "execution_count": 142,
   "id": "628bcbe3",
   "metadata": {},
   "outputs": [
    {
     "name": "stdout",
     "output_type": "stream",
     "text": [
      "(650, 1505) (241, 1505)\n"
     ]
    }
   ],
   "source": [
    "print(X_train.shape,X_test.shape)"
   ]
  },
  {
   "cell_type": "code",
   "execution_count": 143,
   "id": "94801e33",
   "metadata": {},
   "outputs": [],
   "source": [
    "from sklearn.ensemble import RandomForestClassifier"
   ]
  },
  {
   "cell_type": "code",
   "execution_count": 150,
   "id": "c2dd13d2",
   "metadata": {},
   "outputs": [],
   "source": [
    "clf = RandomForestClassifier(n_estimators=100)"
   ]
  },
  {
   "cell_type": "code",
   "execution_count": 151,
   "id": "7fdb657a",
   "metadata": {},
   "outputs": [
    {
     "data": {
      "text/plain": [
       "RandomForestClassifier()"
      ]
     },
     "execution_count": 151,
     "metadata": {},
     "output_type": "execute_result"
    }
   ],
   "source": [
    "clf.fit(X_train, y_train)"
   ]
  },
  {
   "cell_type": "code",
   "execution_count": 152,
   "id": "ca21e8c3",
   "metadata": {},
   "outputs": [],
   "source": [
    "pred = clf.predict(X_test)"
   ]
  },
  {
   "cell_type": "code",
   "execution_count": 156,
   "id": "82b9da58",
   "metadata": {},
   "outputs": [],
   "source": [
    "from sklearn.metrics import mean_squared_error, accuracy_score, precision_score, recall_score, f1_score, roc_auc_score, roc_curve,auc, fbeta_score"
   ]
  },
  {
   "cell_type": "code",
   "execution_count": 157,
   "id": "6f7495e2",
   "metadata": {},
   "outputs": [
    {
     "name": "stdout",
     "output_type": "stream",
     "text": [
      "Precision: 0.6521739130434783\n",
      "Recall: 0.6896551724137931\n",
      "F1: 0.670391061452514\n"
     ]
    }
   ],
   "source": [
    "print('Precision:',precision_score(y_test,pred))\n",
    "print('Recall:',recall_score(y_test,pred))\n",
    "print('F1:',f1_score(y_test,pred))"
   ]
  },
  {
   "cell_type": "code",
   "execution_count": 166,
   "id": "d1aa4bed",
   "metadata": {},
   "outputs": [],
   "source": [
    "import matplotlib.pyplot as plt"
   ]
  },
  {
   "cell_type": "code",
   "execution_count": 167,
   "id": "d863db05",
   "metadata": {},
   "outputs": [],
   "source": [
    "pred_proba=clf.predict_proba(X_test)[:,1]"
   ]
  },
  {
   "cell_type": "code",
   "execution_count": 168,
   "id": "7c74cce1",
   "metadata": {},
   "outputs": [
    {
     "name": "stdout",
     "output_type": "stream",
     "text": [
      "DecisionTreeClassifier: ROC AUC=0.753\n"
     ]
    }
   ],
   "source": [
    "fpr, tpr, treshold = roc_curve(y_test, pred_proba)\n",
    "tree_auc = roc_auc_score(y_test, pred_proba)\n",
    "print('DecisionTreeClassifier: ROC AUC=%.3f' % (tree_auc))"
   ]
  },
  {
   "cell_type": "code",
   "execution_count": 169,
   "id": "66532a21",
   "metadata": {},
   "outputs": [
    {
     "data": {
      "image/png": "[encoded data removed]",
      "text/plain": [
       "<Figure size 432x288 with 1 Axes>"
      ]
     },
     "metadata": {
      "needs_background": "light"
     },
     "output_type": "display_data"
    }
   ],
   "source": [
    "roc_auc = auc(fpr, tpr)\n",
    "plt.plot(fpr, tpr,  color='darkorange',\n",
    "         label='ROC кривая (area = %0.2f)' % roc_auc)\n",
    "plt.plot([0, 1], [0, 1], color='navy', linestyle='--')\n",
    "plt.xlim([0.0, 1.0])\n",
    "plt.ylim([0.0, 1.05])\n",
    "plt.xlabel('False Positive Rate')\n",
    "plt.ylabel('True Positive Rate')\n",
    "plt.title('Пример ROC-кривой')\n",
    "plt.legend(loc=\"lower right\")\n",
    "plt.show()"
   ]
  },
  {
   "cell_type": "code",
   "execution_count": 180,
   "id": "6bb99fb3",
   "metadata": {},
   "outputs": [],
   "source": [
    "test_deep = []\n",
    "for deep in range (1,31):\n",
    "  for leaf in range (1,5):\n",
    "    clf = tree.DecisionTreeClassifier(max_depth=deep, min_samples_leaf=leaf)\n",
    "    model = clf.fit(X_train, y_train)\n",
    "    pred = model.predict(X_test)\n",
    "    test_deep.append([deep,leaf,f1_score(y_test,pred),recall_score(y_test,pred)])"
   ]
  },
  {
   "cell_type": "code",
   "execution_count": 181,
   "id": "785543af",
   "metadata": {},
   "outputs": [],
   "source": [
    "test_deep = pd.DataFrame(test_deep)\n",
    "test_deep.columns = ['tree_depth','leaf','f1_score','recall_score']"
   ]
  },
  {
   "cell_type": "code",
   "execution_count": 182,
   "id": "4c7e9456",
   "metadata": {},
   "outputs": [
    {
     "data": {
      "text/html": [
       "<div>\n",
       "<style scoped>\n",
       "    .dataframe tbody tr th:only-of-type {\n",
       "        vertical-align: middle;\n",
       "    }\n",
       "\n",
       "    .dataframe tbody tr th {\n",
       "        vertical-align: top;\n",
       "    }\n",
       "\n",
       "    .dataframe thead th {\n",
       "        text-align: right;\n",
       "    }\n",
       "</style>\n",
       "<table border=\"1\" class=\"dataframe\">\n",
       "  <thead>\n",
       "    <tr style=\"text-align: right;\">\n",
       "      <th></th>\n",
       "      <th>tree_depth</th>\n",
       "      <th>leaf</th>\n",
       "      <th>f1_score</th>\n",
       "      <th>recall_score</th>\n",
       "    </tr>\n",
       "  </thead>\n",
       "  <tbody>\n",
       "    <tr>\n",
       "      <th>0</th>\n",
       "      <td>1</td>\n",
       "      <td>1</td>\n",
       "      <td>0.652406</td>\n",
       "      <td>0.701149</td>\n",
       "    </tr>\n",
       "    <tr>\n",
       "      <th>1</th>\n",
       "      <td>1</td>\n",
       "      <td>2</td>\n",
       "      <td>0.652406</td>\n",
       "      <td>0.701149</td>\n",
       "    </tr>\n",
       "    <tr>\n",
       "      <th>2</th>\n",
       "      <td>1</td>\n",
       "      <td>3</td>\n",
       "      <td>0.652406</td>\n",
       "      <td>0.701149</td>\n",
       "    </tr>\n",
       "    <tr>\n",
       "      <th>3</th>\n",
       "      <td>1</td>\n",
       "      <td>4</td>\n",
       "      <td>0.652406</td>\n",
       "      <td>0.701149</td>\n",
       "    </tr>\n",
       "    <tr>\n",
       "      <th>4</th>\n",
       "      <td>2</td>\n",
       "      <td>1</td>\n",
       "      <td>0.655914</td>\n",
       "      <td>0.701149</td>\n",
       "    </tr>\n",
       "    <tr>\n",
       "      <th>...</th>\n",
       "      <td>...</td>\n",
       "      <td>...</td>\n",
       "      <td>...</td>\n",
       "      <td>...</td>\n",
       "    </tr>\n",
       "    <tr>\n",
       "      <th>115</th>\n",
       "      <td>29</td>\n",
       "      <td>4</td>\n",
       "      <td>0.621951</td>\n",
       "      <td>0.586207</td>\n",
       "    </tr>\n",
       "    <tr>\n",
       "      <th>116</th>\n",
       "      <td>30</td>\n",
       "      <td>1</td>\n",
       "      <td>0.670520</td>\n",
       "      <td>0.666667</td>\n",
       "    </tr>\n",
       "    <tr>\n",
       "      <th>117</th>\n",
       "      <td>30</td>\n",
       "      <td>2</td>\n",
       "      <td>0.642857</td>\n",
       "      <td>0.620690</td>\n",
       "    </tr>\n",
       "    <tr>\n",
       "      <th>118</th>\n",
       "      <td>30</td>\n",
       "      <td>3</td>\n",
       "      <td>0.636364</td>\n",
       "      <td>0.643678</td>\n",
       "    </tr>\n",
       "    <tr>\n",
       "      <th>119</th>\n",
       "      <td>30</td>\n",
       "      <td>4</td>\n",
       "      <td>0.650888</td>\n",
       "      <td>0.632184</td>\n",
       "    </tr>\n",
       "  </tbody>\n",
       "</table>\n",
       "<p>120 rows × 4 columns</p>\n",
       "</div>"
      ],
      "text/plain": [
       "     tree_depth  leaf  f1_score  recall_score\n",
       "0             1     1  0.652406      0.701149\n",
       "1             1     2  0.652406      0.701149\n",
       "2             1     3  0.652406      0.701149\n",
       "3             1     4  0.652406      0.701149\n",
       "4             2     1  0.655914      0.701149\n",
       "..          ...   ...       ...           ...\n",
       "115          29     4  0.621951      0.586207\n",
       "116          30     1  0.670520      0.666667\n",
       "117          30     2  0.642857      0.620690\n",
       "118          30     3  0.636364      0.643678\n",
       "119          30     4  0.650888      0.632184\n",
       "\n",
       "[120 rows x 4 columns]"
      ]
     },
     "execution_count": 182,
     "metadata": {},
     "output_type": "execute_result"
    }
   ],
   "source": [
    "test_deep"
   ]
  },
  {
   "cell_type": "code",
   "execution_count": 183,
   "id": "ccc7dd24",
   "metadata": {},
   "outputs": [],
   "source": [
    "from sklearn.model_selection import GridSearchCV\n",
    "from sklearn.tree import DecisionTreeClassifier"
   ]
  },
  {
   "cell_type": "code",
   "execution_count": 184,
   "id": "2aae7114",
   "metadata": {},
   "outputs": [],
   "source": [
    "tree_para = {'criterion':['gini','entropy'],\n",
    "             'max_depth':[4,5,6,7,8,9,10,11,12,15,20,30,40,50,70,90,120],\n",
    "             'min_samples_leaf':[1,2,3,4,5]}"
   ]
  },
  {
   "cell_type": "code",
   "execution_count": 187,
   "id": "560ee3df",
   "metadata": {},
   "outputs": [
    {
     "data": {
      "text/plain": [
       "GridSearchCV(cv=20, estimator=DecisionTreeClassifier(),\n",
       "             param_grid={'criterion': ['gini', 'entropy'],\n",
       "                         'max_depth': [4, 5, 6, 7, 8, 9, 10, 11, 12, 15, 20, 30,\n",
       "                                       40, 50, 70, 90, 120, 150],\n",
       "                         'min_samples_leaf': [1, 2, 3, 4, 5]},\n",
       "             scoring='recall')"
      ]
     },
     "execution_count": 187,
     "metadata": {},
     "output_type": "execute_result"
    }
   ],
   "source": [
    "clf_gs = GridSearchCV(DecisionTreeClassifier(), tree_para, cv=20, scoring = 'recall')\n",
    "clf_gs.fit(X_train, y_train)"
   ]
  },
  {
   "cell_type": "code",
   "execution_count": 188,
   "id": "bf73af78",
   "metadata": {},
   "outputs": [
    {
     "data": {
      "text/plain": [
       "{'criterion': 'entropy', 'max_depth': 5, 'min_samples_leaf': 3}"
      ]
     },
     "execution_count": 188,
     "metadata": {},
     "output_type": "execute_result"
    }
   ],
   "source": [
    "clf_gs.best_params_"
   ]
  },
  {
   "cell_type": "code",
   "execution_count": 190,
   "id": "cc1dc736",
   "metadata": {},
   "outputs": [],
   "source": [
    "from sklearn.model_selection import train_test_split, cross_val_score, ShuffleSplit"
   ]
  },
  {
   "cell_type": "code",
   "execution_count": 193,
   "id": "f6610794",
   "metadata": {},
   "outputs": [],
   "source": [
    "model_new = DecisionTreeClassifier(**clf_gs.best_params_)"
   ]
  },
  {
   "cell_type": "code",
   "execution_count": 194,
   "id": "b9bee6ca",
   "metadata": {},
   "outputs": [
    {
     "data": {
      "text/plain": [
       "DecisionTreeClassifier(criterion='entropy', max_depth=5, min_samples_leaf=3)"
      ]
     },
     "execution_count": 194,
     "metadata": {},
     "output_type": "execute_result"
    }
   ],
   "source": [
    "model_new.fit(X_train,y_train)"
   ]
  },
  {
   "cell_type": "code",
   "execution_count": 195,
   "id": "f9b1c3dc",
   "metadata": {},
   "outputs": [],
   "source": [
    "new_pred = model_new.predict(X_test)"
   ]
  },
  {
   "cell_type": "code",
   "execution_count": 196,
   "id": "1e1dbf26",
   "metadata": {},
   "outputs": [],
   "source": [
    "cv = ShuffleSplit(n_splits=13, test_size=0.27, random_state=0) \n",
    "scores = cross_val_score(model_new, X_train, y_train, cv=cv, scoring='recall')"
   ]
  },
  {
   "cell_type": "code",
   "execution_count": 197,
   "id": "f5fdf53e",
   "metadata": {},
   "outputs": [
    {
     "data": {
      "text/plain": [
       "array([0.8       , 0.83333333, 0.79411765, 0.76315789, 0.859375  ,\n",
       "       0.85483871, 0.75      , 0.79710145, 0.75949367, 0.84210526,\n",
       "       0.8       , 0.76470588, 0.77333333])"
      ]
     },
     "execution_count": 197,
     "metadata": {},
     "output_type": "execute_result"
    }
   ],
   "source": [
    "scores"
   ]
  },
  {
   "cell_type": "code",
   "execution_count": null,
   "id": "19449c4c",
   "metadata": {},
   "outputs": [],
   "source": []
  }
 ],
 "metadata": {
  "kernelspec": {
   "display_name": "Python 3",
   "language": "python",
   "name": "python3"
  },
  "language_info": {
   "codemirror_mode": {
    "name": "ipython",
    "version": 3
   },
   "file_extension": ".py",
   "mimetype": "text/x-python",
   "name": "python",
   "nbconvert_exporter": "python",
   "pygments_lexer": "ipython3",
   "version": "3.8.8"
  }
 },
 "nbformat": 4,
 "nbformat_minor": 5
}
